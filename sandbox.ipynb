{
 "cells": [
  {
   "cell_type": "code",
   "execution_count": 1,
   "metadata": {},
   "outputs": [],
   "source": [
    "%load_ext autoreload\n",
    "%autoreload 2"
   ]
  },
  {
   "cell_type": "code",
   "execution_count": 2,
   "metadata": {
    "vscode": {
     "languageId": "plaintext"
    }
   },
   "outputs": [],
   "source": [
    "from dataset import VideoDataset, getDefaultTransform\n",
    "from torch.utils.data import DataLoader"
   ]
  },
  {
   "cell_type": "code",
   "execution_count": 3,
   "metadata": {
    "vscode": {
     "languageId": "plaintext"
    }
   },
   "outputs": [],
   "source": [
    "video_dir = \"/scratch/as18464/raw_videos/\"\n",
    "csv_file = \"/scratch/rr4577/translation/train.csv\"\n",
    "\n",
    "transform = getDefaultTransform()"
   ]
  },
  {
   "cell_type": "code",
   "execution_count": 4,
   "metadata": {
    "vscode": {
     "languageId": "plaintext"
    }
   },
   "outputs": [],
   "source": [
    "dataset = VideoDataset(video_dir=video_dir, csv_file=csv_file, transform=transform)"
   ]
  },
  {
   "cell_type": "code",
   "execution_count": 5,
   "metadata": {
    "vscode": {
     "languageId": "plaintext"
    }
   },
   "outputs": [],
   "source": [
    "dataloader = DataLoader(dataset, batch_size=4, shuffle=True, num_workers=4)"
   ]
  },
  {
   "cell_type": "code",
   "execution_count": 6,
   "metadata": {
    "vscode": {
     "languageId": "plaintext"
    }
   },
   "outputs": [
    {
     "name": "stdout",
     "output_type": "stream",
     "text": [
      "Warning: Video file '/scratch/as18464/raw_videos/1roNMBxogDE-8-rgb_front.mp4' not found for VIDEO_ID '1roNMBxogDE'. Returning empty frames.Warning: Video file '/scratch/as18464/raw_videos/fEHjV8vc66w-8-rgb_front.mp4' not found for VIDEO_ID 'fEHjV8vc66w'. Returning empty frames.\n",
      "\n",
      "Warning: Video file '/scratch/as18464/raw_videos/0EjXICFqrKo-8-rgb_front.mp4' not found for VIDEO_ID '0EjXICFqrKo'. Returning empty frames.\n",
      "Warning: Video file '/scratch/as18464/raw_videos/49P4e1DLm6w-5-rgb_front.mp4' not found for VIDEO_ID '49P4e1DLm6w'. Returning empty frames.\n",
      "Warning: Video file '/scratch/as18464/raw_videos/5rtrGkZNfLo-5-rgb_front.mp4' not found for VIDEO_ID '5rtrGkZNfLo'. Returning empty frames.\n",
      "Warning: Video file '/scratch/as18464/raw_videos/clXjA4Ok8Bs-5-rgb_front.mp4' not found for VIDEO_ID 'clXjA4Ok8Bs'. Returning empty frames.\n",
      "Warning: Video file '/scratch/as18464/raw_videos/aI092VEhmRU-8-rgb_front.mp4' not found for VIDEO_ID 'aI092VEhmRU'. Returning empty frames.Warning: Video file '/scratch/as18464/raw_videos/EwnKW28ZBjI-8-rgb_front.mp4' not found for VIDEO_ID 'EwnKW28ZBjI'. Returning empty frames.\n",
      "\n",
      "Warning: Video file '/scratch/as18464/raw_videos/3NFVQAQDGXE-8-rgb_front.mp4' not found for VIDEO_ID '3NFVQAQDGXE'. Returning empty frames.Warning: Video file '/scratch/as18464/raw_videos/1YnA7Iv3oJ8-8-rgb_front.mp4' not found for VIDEO_ID '1YnA7Iv3oJ8'. Returning empty frames.\n",
      "\n",
      "Warning: Video file '/scratch/as18464/raw_videos/EdJgTx0iFeE-5-rgb_front.mp4' not found for VIDEO_ID 'EdJgTx0iFeE'. Returning empty frames.Warning: Video file '/scratch/as18464/raw_videos/1SmCdI9u3Sg-5-rgb_front.mp4' not found for VIDEO_ID '1SmCdI9u3Sg'. Returning empty frames.\n",
      "Warning: Video file '/scratch/as18464/raw_videos/e6kaamScxwY-8-rgb_front.mp4' not found for VIDEO_ID 'e6kaamScxwY'. Returning empty frames.\n",
      "Warning: Video file '/scratch/as18464/raw_videos/cN11VMtIguw-8-rgb_front.mp4' not found for VIDEO_ID 'cN11VMtIguw'. Returning empty frames.Warning: Video file '/scratch/as18464/raw_videos/-_6Fmz29bhU-1-rgb_front.mp4' not found for VIDEO_ID '-_6Fmz29bhU'. Returning empty frames.\n",
      "\n",
      "Warning: Video file '/scratch/as18464/raw_videos/02WRxAwx-Bo-8-rgb_front.mp4' not found for VIDEO_ID '02WRxAwx-Bo'. Returning empty frames.\n",
      "\n",
      "Warning: Video file '/scratch/as18464/raw_videos/0G41FMDf9bY-11-rgb_front.mp4' not found for VIDEO_ID '0G41FMDf9bY'. Returning empty frames.Warning: Video file '/scratch/as18464/raw_videos/E5cOv1SZCKg-3-rgb_front.mp4' not found for VIDEO_ID 'E5cOv1SZCKg'. Returning empty frames.Warning: Video file '/scratch/as18464/raw_videos/b4bK9WtPz4A-5-rgb_front.mp4' not found for VIDEO_ID 'b4bK9WtPz4A'. Returning empty frames.\n",
      "\n",
      "Warning: Video file '/scratch/as18464/raw_videos/1PhHBWErK9Q-8-rgb_front.mp4' not found for VIDEO_ID '1PhHBWErK9Q'. Returning empty frames.Warning: Video file '/scratch/as18464/raw_videos/b11STwEhshU-5-rgb_front.mp4' not found for VIDEO_ID 'b11STwEhshU'. Returning empty frames.\n",
      "\n",
      "Warning: Video file '/scratch/as18464/raw_videos/1ptbP5xTIdw-8-rgb_front.mp4' not found for VIDEO_ID '1ptbP5xTIdw'. Returning empty frames.Warning: Video file '/scratch/as18464/raw_videos/EdJgTx0iFeE-5-rgb_front.mp4' not found for VIDEO_ID 'EdJgTx0iFeE'. Returning empty frames.\n",
      "\n",
      "\n",
      "Warning: Video file '/scratch/as18464/raw_videos/1lGojKZsjI4-8-rgb_front.mp4' not found for VIDEO_ID '1lGojKZsjI4'. Returning empty frames.\n",
      "['1roNMBxogDE', '0EjXICFqrKo', 'clXjA4Ok8Bs', '1YnA7Iv3oJ8']\n",
      "torch.Size([4, 0, 3, 224, 224])\n",
      "[\"Any part that's connected.\", \"So from here, it's going to start with that rock.\", \"Have games that are going to make the children, and when they leave they'll be glad that they came to the birthday party.\", \"AMANDA CLAIRE: So here's a little volt meter.\"]\n"
     ]
    }
   ],
   "source": [
    "batch = next(iter(dataloader))\n",
    "print(batch[\"video_id\"])\n",
    "print(batch[\"frames\"].shape)  # Tensor of frames: (batch_size, num_frames, C, H, W)\n",
    "print(batch[\"sentence\"])"
   ]
  },
  {
   "cell_type": "code",
   "execution_count": 7,
   "metadata": {},
   "outputs": [
    {
     "name": "stdout",
     "output_type": "stream",
     "text": [
      "Warning: Video file '/scratch/as18464/raw_videos/--7E2sU6zP4-5-rgb_front.mp4' not found for VIDEO_ID '--7E2sU6zP4'. Returning empty frames.\n"
     ]
    },
    {
     "data": {
      "text/plain": [
       "{'video_id': '--7E2sU6zP4',\n",
       " 'frames': tensor([], size=(0, 3, 224, 224)),\n",
       " 'sentence': \"And I call them decorative elements because basically all they're meant to do is to enrich and color the page.\"}"
      ]
     },
     "execution_count": 7,
     "metadata": {},
     "output_type": "execute_result"
    }
   ],
   "source": [
    "dataset.__getitem__(0)"
   ]
  },
  {
   "cell_type": "code",
   "execution_count": null,
   "metadata": {},
   "outputs": [],
   "source": []
  }
 ],
 "metadata": {
  "kernelspec": {
   "display_name": "my_env",
   "language": "python",
   "name": "my_env"
  },
  "language_info": {
   "codemirror_mode": {
    "name": "ipython",
    "version": 3
   },
   "file_extension": ".py",
   "mimetype": "text/x-python",
   "name": "python",
   "nbconvert_exporter": "python",
   "pygments_lexer": "ipython3",
   "version": "3.12.7"
  }
 },
 "nbformat": 4,
 "nbformat_minor": 4
}
