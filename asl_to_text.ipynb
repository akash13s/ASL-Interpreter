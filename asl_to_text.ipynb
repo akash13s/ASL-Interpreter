{
  "nbformat": 4,
  "nbformat_minor": 0,
  "metadata": {
    "colab": {
      "provenance": [],
      "gpuType": "T4",
      "include_colab_link": true
    },
    "kernelspec": {
      "name": "python3",
      "display_name": "Python 3"
    },
    "language_info": {
      "name": "python"
    },
    "accelerator": "GPU"
  },
  "cells": [
    {
      "cell_type": "markdown",
      "metadata": {
        "id": "view-in-github",
        "colab_type": "text"
      },
      "source": [
        "<a href=\"https://colab.research.google.com/github/akash13s/ASL-Interpreter/blob/main/asl_to_text.ipynb\" target=\"_parent\"><img src=\"https://colab.research.google.com/assets/colab-badge.svg\" alt=\"Open In Colab\"/></a>"
      ]
    },
    {
      "cell_type": "code",
      "execution_count": null,
      "metadata": {
        "id": "6Bx8iu9jOssW"
      },
      "outputs": [],
      "source": [
        "!pip install --upgrade -q accelerate bitsandbytes\n",
        "!pip install git+https://github.com/huggingface/transformers.git\n",
        "!pip install -q av"
      ]
    },
    {
      "cell_type": "code",
      "source": [
        "%load_ext autoreload\n",
        "%autoreload 2"
      ],
      "metadata": {
        "id": "TlVrRviBqm1k"
      },
      "execution_count": null,
      "outputs": []
    },
    {
      "cell_type": "code",
      "source": [
        "from transformers import BitsAndBytesConfig, LlavaNextVideoForConditionalGeneration, LlavaNextVideoProcessor\n",
        "import torch\n",
        "import av\n",
        "import numpy as np\n",
        "\n",
        "from dataset import VideoDataset, getDefaultTransform\n",
        "from torch.utils.data import DataLoader"
      ],
      "metadata": {
        "id": "pBR1iMhW844k"
      },
      "execution_count": null,
      "outputs": []
    },
    {
      "cell_type": "markdown",
      "source": [
        "## Load and Set Up the Model\n",
        "\n",
        "Loading the model with quantization enabled"
      ],
      "metadata": {
        "id": "nZPUymHXP9eH"
      }
    },
    {
      "cell_type": "code",
      "source": [
        "quantization_config = BitsAndBytesConfig(\n",
        "    load_in_4bit=True,\n",
        "    bnb_4bit_compute_dtype=torch.float16\n",
        ")\n",
        "\n",
        "processor = LlavaNextVideoProcessor.from_pretrained(\"llava-hf/LLaVA-NeXT-Video-7B-hf\")\n",
        "model = LlavaNextVideoForConditionalGeneration.from_pretrained(\n",
        "    \"llava-hf/LLaVA-NeXT-Video-7B-hf\",\n",
        "    quantization_config=quantization_config,\n",
        "    device_map='auto'\n",
        ")"
      ],
      "metadata": {
        "id": "CNCjyy_JPm4T"
      },
      "execution_count": null,
      "outputs": []
    },
    {
      "cell_type": "markdown",
      "source": [
        "## Frame Sampling\n",
        "\n",
        "In order to process the video we will sample 32 frames."
      ],
      "metadata": {
        "id": "_FNZ3rVNQP6A"
      }
    },
    {
      "cell_type": "code",
      "source": [
        "def sample_frames(frames, num_sample_frames=32):\n",
        "\n",
        "  # Generate indices for uniform sampling\n",
        "  indices = torch.linspace(0, frames.shape[1] - 1, steps=num_sample_frames).long()\n",
        "\n",
        "  # Sample frames using the calculated indices\n",
        "  sampled_frames = frames[:, indices, :, :, :]  # Tensor of frames: (batch_size, num_sample_frames, C, H, W)\n",
        "\n",
        "  return sampled_frames"
      ],
      "metadata": {
        "id": "oNtDWDim-Eqt"
      },
      "execution_count": null,
      "outputs": []
    },
    {
      "cell_type": "markdown",
      "source": [
        "## Process and Generate Using the Model\n",
        "\n",
        "Here we will apply the prompt, and generate outputs"
      ],
      "metadata": {
        "id": "YhJFR3O_-ZEz"
      }
    },
    {
      "cell_type": "code",
      "source": [
        "def process_and_generate(model, processor, frames, prompt_text):\n",
        "  # Prepare conversation template\n",
        "  conversation = [\n",
        "    {\n",
        "      \"role\": \"user\",\n",
        "      \"content\": [\n",
        "        {\"type\": \"text\", \"text\": prompt_text},\n",
        "        {\"type\": \"video\"},\n",
        "      ],\n",
        "    },\n",
        "  ]\n",
        "\n",
        "  # Apply chat template\n",
        "  prompt = processor.apply_chat_template(conversation, add_generation_prompt=True)\n",
        "\n",
        "  # Process inputs for the model\n",
        "  inputs = processor([prompt], videos=[frames], return_tensors=\"pt\").to(model.device)\n",
        "\n",
        "  # Set generation parameters\n",
        "  generate_kwargs = {\"max_new_tokens\": 100, \"do_sample\": True, \"top_p\": 0.9}\n",
        "\n",
        "  # Generate response\n",
        "  output = model.generate(**inputs, **generate_kwargs)\n",
        "  generated_text = processor.batch_decode(output, skip_special_tokens=True)\n",
        "\n",
        "  return generated_text"
      ],
      "metadata": {
        "id": "7seeOL2M-bfw"
      },
      "execution_count": null,
      "outputs": []
    },
    {
      "cell_type": "markdown",
      "source": [
        "## Iterate Through the DataLoader for Batch Processing\n",
        "\n",
        "Now we will go through each batch in our dataloader, sample frames, and pass them through the model.\n"
      ],
      "metadata": {
        "id": "5A1zyKoyi0nc"
      }
    },
    {
      "cell_type": "code",
      "source": [
        "video_dir = \"/scratch/as18464/raw_videos/\"\n",
        "csv_file = \"/scratch/rr4577/translation/train.csv\"\n",
        "\n",
        "transform = getDefaultTransform()\n",
        "\n",
        "dataset = VideoDataset(video_dir=video_dir, csv_file=csv_file, transform=transform)\n",
        "dataloader = DataLoader(dataset, batch_size=4, shuffle=True, num_workers=0)\n",
        "\n",
        "# for batch in dataloader:\n",
        "batch = next(iter(dataloader))\n",
        "\n",
        "# Get frames and sentences from batch\n",
        "frames, sentences = batch\n",
        "\n",
        "# Sample frames from each video in the batch\n",
        "frames = sample_frames(frames)\n",
        "\n",
        "# Try several prompts\n",
        "prompts = [\"Translate the ASL gestures in this video into English text.\", \"Provide a detailed translation of the ASL signing in this video.\", \"Convert the sign language in this video to text.\"]\n",
        "\n",
        "for prompt in prompts:\n",
        "  # Generate response from the model\n",
        "  generated_text = process_and_generate(model, processor, frames, prompt)\n",
        "\n",
        "  print(\"Generated Text:\", generated_text)\n",
        "  print(\"Ground Truth Sentences:\", sentences)"
      ],
      "metadata": {
        "id": "8KSnOyjdixQm"
      },
      "execution_count": null,
      "outputs": []
    }
  ]
}