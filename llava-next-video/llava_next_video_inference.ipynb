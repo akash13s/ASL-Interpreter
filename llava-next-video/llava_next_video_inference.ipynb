{
 "cells": [
  {
   "cell_type": "markdown",
   "id": "6deb7316-bb56-433b-b1f9-cc5c1bc18d8c",
   "metadata": {},
   "source": [
    "## Inference\n",
    "\n",
    "Python notebook to run inference on the trained model"
   ]
  },
  {
   "cell_type": "code",
   "execution_count": null,
   "id": "4fca1d243bbe604a",
   "metadata": {},
   "outputs": [],
   "source": [
    "import os\n",
    "\n",
    "import torch\n",
    "from accelerate import Accelerator\n",
    "from torchvision import transforms\n",
    "from transformers import AutoProcessor\n",
    "\n",
    "from components.model import get_model\n",
    "from components.pre_processor import get_frames"
   ]
  },
  {
   "cell_type": "code",
   "execution_count": 2,
   "id": "72a85b19c13339e3",
   "metadata": {},
   "outputs": [],
   "source": [
    "os.environ['PYTORCH_CUDA_ALLOC_CONF'] = 'expandable_segments:True'\n",
    "torch.cuda.empty_cache()"
   ]
  },
  {
   "cell_type": "code",
   "execution_count": null,
   "id": "ad7b4fb308e75bcf",
   "metadata": {},
   "outputs": [],
   "source": [
    "# Constants\n",
    "MODEL_ID = \"llava-hf/LLaVA-NeXT-Video-7B-hf\""
   ]
  },
  {
   "cell_type": "code",
   "execution_count": null,
   "id": "66a99df221162546",
   "metadata": {},
   "outputs": [],
   "source": [
    "# File/directory\n",
    "CACHE_DIR = \"../cache/\""
   ]
  },
  {
   "cell_type": "code",
   "execution_count": null,
   "id": "db93b5ee",
   "metadata": {},
   "outputs": [],
   "source": [
    "# Quantization parameters\n",
    "USE_QLORA = False\n",
    "USE_8BIT = False\n",
    "USE_DBL_QUANT = False"
   ]
  },
  {
   "cell_type": "code",
   "execution_count": null,
   "id": "3682b9ed7ba96ca2",
   "metadata": {},
   "outputs": [],
   "source": [
    "# LoRA hyperparameters\n",
    "LORA_R = 8\n",
    "LORA_ALPHA = 32\n",
    "LORA_DROPOUT = 0.1"
   ]
  },
  {
   "cell_type": "code",
   "execution_count": null,
   "id": "618607e191e24faa",
   "metadata": {},
   "outputs": [],
   "source": [
    "# model constants\n",
    "MAX_LENGTH = 3500"
   ]
  },
  {
   "cell_type": "code",
   "execution_count": null,
   "id": "8381f5aa-0a68-4982-8f31-18123ea7a1aa",
   "metadata": {},
   "outputs": [],
   "source": [
    "def load_trained_model(checkpoint_path):\n",
    "    p_model = get_model(\n",
    "        model_id=MODEL_ID,\n",
    "        use_qlora=USE_QLORA,\n",
    "        use_8bit=USE_8BIT,\n",
    "        use_double_quant=USE_DBL_QUANT,\n",
    "        lora_r=LORA_R,\n",
    "        lora_alpha=LORA_ALPHA,\n",
    "        lora_dropout=LORA_DROPOUT,\n",
    "        cache_dir=CACHE_DIR\n",
    "    )\n",
    "    checkpoint = torch.load(checkpoint_path)\n",
    "\n",
    "    # Load only the LoRA weights\n",
    "    p_model.load_state_dict(checkpoint['model_state_dict'], strict=False)\n",
    "\n",
    "    return p_model, checkpoint['epoch'], checkpoint['loss']"
   ]
  },
  {
   "cell_type": "code",
   "execution_count": 14,
   "id": "aeadc5a6-0ff3-4317-ae26-a08e92663c09",
   "metadata": {},
   "outputs": [
    {
     "name": "stderr",
     "output_type": "stream",
     "text": [
      "`low_cpu_mem_usage` was None, now default to True since model is quantized.\n"
     ]
    },
    {
     "data": {
      "application/vnd.jupyter.widget-view+json": {
       "model_id": "0ea4bd1bc50e4dbc9d0865125452b4b4",
       "version_major": 2,
       "version_minor": 0
      },
      "text/plain": [
       "Loading checkpoint shards:   0%|          | 0/3 [00:00<?, ?it/s]"
      ]
     },
     "metadata": {},
     "output_type": "display_data"
    },
    {
     "name": "stderr",
     "output_type": "stream",
     "text": [
      "/state/partition1/job-54535504/ipykernel_4172088/4054281672.py:26: FutureWarning: You are using `torch.load` with `weights_only=False` (the current default value), which uses the default pickle module implicitly. It is possible to construct malicious pickle data which will execute arbitrary code during unpickling (See https://github.com/pytorch/pytorch/blob/main/SECURITY.md#untrusted-models for more details). In a future release, the default value for `weights_only` will be flipped to `True`. This limits the functions that could be executed during unpickling. Arbitrary objects will no longer be allowed to be loaded via this mode unless they are explicitly allowlisted by the user via `torch.serialization.add_safe_globals`. We recommend you start setting `weights_only=True` for any use case where you don't have full control of the loaded file. Please open an issue on GitHub for any issues related to this experimental feature.\n",
      "  checkpoint = torch.load(checkpoint_path)\n"
     ]
    }
   ],
   "source": [
    "# Usage:\n",
    "accelerator = Accelerator()\n",
    "model, epoch, loss = load_trained_model('./output/checkpoint_epoch_20')\n",
    "model = accelerator.prepare(model)"
   ]
  },
  {
   "cell_type": "code",
   "execution_count": 15,
   "id": "e74e8d06-c534-4d9d-8bea-828c4fd5dbe8",
   "metadata": {},
   "outputs": [
    {
     "name": "stdout",
     "output_type": "stream",
     "text": [
      "20\n"
     ]
    }
   ],
   "source": [
    "print(epoch)"
   ]
  },
  {
   "cell_type": "code",
   "execution_count": 16,
   "id": "0e7a1b2e-d58e-4dda-8a4b-9872653e7ede",
   "metadata": {},
   "outputs": [
    {
     "name": "stdout",
     "output_type": "stream",
     "text": [
      "tensor(0.0271, requires_grad=True)\n"
     ]
    }
   ],
   "source": [
    "print(loss)"
   ]
  },
  {
   "cell_type": "code",
   "execution_count": 42,
   "id": "651e53a7-a7be-43b6-8ebf-cc5f2f7d1603",
   "metadata": {},
   "outputs": [],
   "source": [
    "def generate_for_single_video(model, processor, video_path, accelerator):\n",
    "    # Set model to evaluation mode\n",
    "    model.eval()\n",
    "\n",
    "    # Get frames from the video\n",
    "    frames = get_frames(video_path, num_frames=16)  # Using 16 frames as in training\n",
    "\n",
    "    # Convert frames to tensor\n",
    "    frames_list = [transforms.ToTensor()(frame) for frame in frames]\n",
    "    frame_tensor = torch.stack(frames_list)\n",
    "\n",
    "    # Convert to format expected by processor\n",
    "    images = [img.permute(1, 2, 0).cpu().numpy() for img in frame_tensor]\n",
    "\n",
    "    # Create prompt\n",
    "    tmp_prompt = \"Translate the sign language to english text.\"\n",
    "    prompt = f\"USER: <video> {tmp_prompt}\\n ASSISTANT: Answer:\"\n",
    "\n",
    "    # Process inputs\n",
    "    batch = processor(\n",
    "        text=prompt,\n",
    "        videos=[images],  # Wrap in list as processor expects batch\n",
    "        padding=True,\n",
    "        truncation=True,\n",
    "        max_length=MAX_LENGTH,\n",
    "        return_tensors=\"pt\"\n",
    "    )\n",
    "\n",
    "    # Prepare inputs\n",
    "    input_ids = accelerator.prepare(batch[\"input_ids\"])\n",
    "    attention_mask = accelerator.prepare(batch[\"attention_mask\"])\n",
    "    pixel_values_videos = accelerator.prepare(batch[\"pixel_values_videos\"])\n",
    "\n",
    "    frame_count = pixel_values_videos.shape[1]\n",
    "    height, width = pixel_values_videos.shape[3], pixel_values_videos.shape[4]\n",
    "    n_video_tokens = (input_ids == processor.tokenizer.convert_tokens_to_ids(\"<video>\")).sum(dim=1)\n",
    "    expected_tokens = frame_count * (height // processor.patch_size) * (width // processor.patch_size) // 4\n",
    "    token_diffs = expected_tokens - n_video_tokens\n",
    "    \n",
    "    # Adjust input_ids and attention_mask\n",
    "    max_length = input_ids.size(1) + max(0, token_diffs.max().item())\n",
    "    adjusted_input_ids = torch.full((input_ids.size(0), max_length), processor.tokenizer.pad_token_id, device=accelerator.device)\n",
    "    adjusted_attention_mask = torch.zeros((input_ids.size(0), max_length), device=accelerator.device)\n",
    "    \n",
    "    for i in range(input_ids.size(0)):\n",
    "        current_length = input_ids.size(1)\n",
    "        diff = token_diffs[i].item()\n",
    "    \n",
    "        # Add tokens or truncate as needed\n",
    "        if diff > 0:\n",
    "            # Add extra <video> tokens\n",
    "            adjusted_input_ids[i, :current_length] = input_ids[i]\n",
    "            adjusted_input_ids[i, current_length:current_length + diff] = processor.tokenizer.convert_tokens_to_ids(\"<video>\")\n",
    "            adjusted_attention_mask[i, :current_length + diff] = attention_mask[i]\n",
    "        else:\n",
    "            # Truncate tokens\n",
    "            adjusted_input_ids[i, :current_length + diff] = input_ids[i, :current_length + diff]\n",
    "            adjusted_attention_mask[i, :current_length + diff] = attention_mask[i, :current_length + diff]\n",
    "    \n",
    "    # Replace original tensors with adjusted ones\n",
    "    input_ids = adjusted_input_ids\n",
    "    attention_mask = adjusted_attention_mask\n",
    "\n",
    "    # Generate text\n",
    "    with torch.no_grad():\n",
    "        outputs = model.generate(\n",
    "            input_ids=input_ids,\n",
    "            attention_mask=attention_mask,\n",
    "            pixel_values_videos=pixel_values_videos,\n",
    "            max_length=200\n",
    "        )\n",
    "\n",
    "    # Decode the generated text\n",
    "    return processor.batch_decode(outputs, skip_special_tokens=True, clean_up_tokenization_spaces=True)"
   ]
  },
  {
   "cell_type": "code",
   "execution_count": 43,
   "id": "b8a5e76b-8fac-4165-a1cd-4887d0199f31",
   "metadata": {},
   "outputs": [],
   "source": [
    "processor = AutoProcessor.from_pretrained(MODEL_ID)\n",
    "processor.tokenizer.padding_side = \"right\"\n",
    "processor.image_processor.do_rescale = False"
   ]
  },
  {
   "cell_type": "code",
   "execution_count": 48,
   "id": "754bc879-aa05-4b94-a78d-a8af9af1173a",
   "metadata": {},
   "outputs": [],
   "source": [
    "video_path = '/scratch/as18464/raw_videos/-06_nJnhORg_3-5-rgb_front.mp4'\n",
    "generated_text = generate_for_single_video(model, processor, video_path, accelerator)"
   ]
  },
  {
   "cell_type": "code",
   "execution_count": 49,
   "id": "08307b35-d274-4a09-a3bb-967397f4dbe8",
   "metadata": {},
   "outputs": [
    {
     "data": {
      "text/plain": [
       "['USER:  Translate the sign language to english text.\\n ASSISTANT: Answer: Gener']"
      ]
     },
     "execution_count": 49,
     "metadata": {},
     "output_type": "execute_result"
    }
   ],
   "source": [
    "generated_text"
   ]
  },
  {
   "cell_type": "code",
   "execution_count": null,
   "id": "9d59983b-3d98-4ddb-a0c7-8113e610e057",
   "metadata": {},
   "outputs": [],
   "source": []
  }
 ],
 "metadata": {
  "kernelspec": {
   "display_name": "Python 3 (ipykernel)",
   "language": "python",
   "name": "python3"
  },
  "language_info": {
   "codemirror_mode": {
    "name": "ipython",
    "version": 3
   },
   "file_extension": ".py",
   "mimetype": "text/x-python",
   "name": "python",
   "nbconvert_exporter": "python",
   "pygments_lexer": "ipython3",
   "version": "3.10.12"
  }
 },
 "nbformat": 4,
 "nbformat_minor": 5
}
